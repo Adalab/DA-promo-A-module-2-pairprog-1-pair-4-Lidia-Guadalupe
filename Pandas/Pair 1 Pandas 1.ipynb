{
 "cells": [
  {
   "cell_type": "markdown",
   "metadata": {},
   "source": [
    "**Empezamos los ejercicios depair programming con Pandas. En esta lección hemos aprendido que son las Series y DataFrames y como podemos crearlos en Python.**"
   ]
  },
  {
   "cell_type": "code",
   "execution_count": 1,
   "metadata": {},
   "outputs": [],
   "source": [
    "import pandas as pd\n",
    "import numpy as np"
   ]
  },
  {
   "cell_type": "markdown",
   "metadata": {},
   "source": [
    "**El objetivo de la clase de hoy será crear unos cuántos dataframes y series a trvés de los siguientes ejercicios:**"
   ]
  },
  {
   "cell_type": "markdown",
   "metadata": {},
   "source": [
    "**1. ¿Qué diferencia hay entre una Serie y un Dataframe?**"
   ]
  },
  {
   "cell_type": "markdown",
   "metadata": {},
   "source": [
    ">**Serie**: una dimensión, que contiene un array de datos. Tiene dos componentes principales que son los indices y vector.\n",
    "\n",
    ">**DataFrame**: 2 dimensiones, se pueden guardar datos de distinto tipo (string, entero, float,..),la diferencia es que hay más dimensiones y por lo tanto podemos tener mas columnas con valores."
   ]
  },
  {
   "cell_type": "markdown",
   "metadata": {},
   "source": [
    "**2. Momento de trabajar con Series. Contestas las siguientes preguntas:**\n",
    "\n",
    "**Crea dos listas:**\n"
   ]
  },
  {
   "cell_type": "markdown",
   "metadata": {},
   "source": [
    "- **Una que se llame \"valores\" que tenga 7 números aleatorios.**\n",
    "- **Otra que se llame \"indices\" que tenga 7 strings que se llamen como los dias de la semana.**\n",
    "\n",
    "**A partir de estas dos listas crea una Serie donde la variable \"valores\" sean los valores de la Serie y la variable indices sean los índices de la Serie.**"
   ]
  },
  {
   "cell_type": "code",
   "execution_count": 2,
   "metadata": {},
   "outputs": [
    {
     "name": "stdout",
     "output_type": "stream",
     "text": [
      "lunes        11\n",
      "martes       12\n",
      "miercoles    13\n",
      "jueves       14\n",
      "viernes      15\n",
      "sabado       16\n",
      "domingo      17\n",
      "dtype: int64\n"
     ]
    }
   ],
   "source": [
    "valores = [11,12,13,14,15,16,17]\n",
    "\n",
    "indices = [\"lunes\", \"martes\",\"miercoles\",\"jueves\",\"viernes\",\"sabado\",\"domingo\",]\n",
    "\n",
    "serie1 = pd.Series(valores, index = indices)\n",
    "\n",
    "print(serie1)"
   ]
  },
  {
   "cell_type": "markdown",
   "metadata": {},
   "source": [
    "**A partir de las dos listas anteriores crea un diccionario usando un for. Para hacer esto tenemos el método zip que nos permite iterar por dos listas a la vez. Más informción sobre este método aquí.**"
   ]
  },
  {
   "cell_type": "code",
   "execution_count": 3,
   "metadata": {},
   "outputs": [
    {
     "name": "stdout",
     "output_type": "stream",
     "text": [
      "{'lunes': 11, 'martes': 12, 'miercoles': 13, 'jueves': 14, 'viernes': 15, 'sabado': 16, 'domingo': 17}\n"
     ]
    }
   ],
   "source": [
    "valores = [11,12,13,14,15,16,17]\n",
    "indices = [\"lunes\", \"martes\",\"miercoles\",\"jueves\",\"viernes\",\"sabado\",\"domingo\"]\n",
    "\n",
    "serie2 = {}\n",
    "\n",
    "for uno,dos in zip(indices,valores): \n",
    "    serie2 [uno] = dos\n",
    "\n",
    "#serie2 = dict((zip(valores,indices)))  # se puede hacer asi, pero con buclo FOR arriba.\n",
    "print(serie2)\n"
   ]
  },
  {
   "cell_type": "markdown",
   "metadata": {},
   "source": [
    "**Crea una Serie con el diccionario creado en el punto anterior.**\n"
   ]
  },
  {
   "cell_type": "code",
   "execution_count": 4,
   "metadata": {},
   "outputs": [
    {
     "data": {
      "text/plain": [
       "lunes        11\n",
       "martes       12\n",
       "miercoles    13\n",
       "jueves       14\n",
       "viernes      15\n",
       "sabado       16\n",
       "domingo      17\n",
       "dtype: int64"
      ]
     },
     "execution_count": 4,
     "metadata": {},
     "output_type": "execute_result"
    }
   ],
   "source": [
    "serie2 \n",
    "\n",
    "serie3 = pd.Series(serie2)\n",
    "serie3\n"
   ]
  },
  {
   "cell_type": "markdown",
   "metadata": {},
   "source": [
    "- **¿Qué forma tiene esta última Serie?**\n",
    "- **¿Qué tipo de datos tiene?**\n",
    "- **¿Qué tamaño tiene?**\n",
    "- **¿Cuáles son los índices de la Serie?**\n",
    "- **¿Y los values?**"
   ]
  },
  {
   "cell_type": "code",
   "execution_count": 5,
   "metadata": {},
   "outputs": [
    {
     "name": "stdout",
     "output_type": "stream",
     "text": [
      "index: Index(['lunes', 'martes', 'miercoles', 'jueves', 'viernes', 'sabado',\n",
      "       'domingo'],\n",
      "      dtype='object')\n",
      "values: [11 12 13 14 15 16 17]\n",
      "Forma: (7,)\n",
      "Nª elementos: 7\n",
      "Tipo de datos: int64\n"
     ]
    }
   ],
   "source": [
    "def propiedades (serie3):\n",
    "    print(\"index:\", serie3.index) \n",
    "    print(\"values:\",serie3.values) \n",
    "    print(\"Forma:\", serie3.shape) \n",
    "    print(\"Nª elementos:\", serie3.size) \n",
    "    print(\"Tipo de datos:\", serie3.dtype) \n",
    "\n",
    "propiedades(serie3)"
   ]
  },
  {
   "cell_type": "markdown",
   "metadata": {},
   "source": [
    "- **Extraed el valor para el índice \"lunes\"**\n",
    "- **Extraed el valor para el índice \"lunes\", \"martes\" y \"miércoles\"**\n",
    "- **Extraed el valor para el índice \"lunes\" y \"domingo\"**"
   ]
  },
  {
   "cell_type": "code",
   "execution_count": 6,
   "metadata": {},
   "outputs": [
    {
     "name": "stdout",
     "output_type": "stream",
     "text": [
      "index: Index(['lunes', 'martes', 'miercoles', 'jueves', 'viernes', 'sabado',\n",
      "       'domingo'],\n",
      "      dtype='object')\n",
      "values: [11 12 13 14 15 16 17]\n",
      "Forma: (7,)\n",
      "Nª elementos: 7\n",
      "Tipo de datos: int64\n",
      "El valor del lunes: 11\n",
      "El valor del lunes,martes y miercoles: [11 12 13]\n",
      "El valor de lunes a domingo: [11 17]\n"
     ]
    }
   ],
   "source": [
    "propiedades(serie3)\n",
    "print(\"El valor del lunes:\", serie3.values[0]) \n",
    "print(\"El valor del lunes,martes y miercoles:\",serie3.values[:3])\n",
    "print(\"El valor de lunes a domingo:\" ,serie3.values[[0,6]])"
   ]
  },
  {
   "cell_type": "markdown",
   "metadata": {},
   "source": [
    "**3. Es el turno de los dataframes**\n",
    "\n",
    "- **Cread un array de dos dimensiones con 4 filas y 3 columnas.**"
   ]
  },
  {
   "cell_type": "code",
   "execution_count": 7,
   "metadata": {},
   "outputs": [],
   "source": [
    "array = np.array([[1,2,3],[4,5,6],[7,8,9],[10,11,12]])\n",
    "df = pd.DataFrame(array)"
   ]
  },
  {
   "cell_type": "markdown",
   "metadata": {},
   "source": [
    "- **Convertid el array en un dataframe donde las columnas se llamen \"España\", \"Francia\" e \"Italia\".**"
   ]
  },
  {
   "cell_type": "code",
   "execution_count": 8,
   "metadata": {},
   "outputs": [
    {
     "data": {
      "text/html": [
       "<div>\n",
       "<style scoped>\n",
       "    .dataframe tbody tr th:only-of-type {\n",
       "        vertical-align: middle;\n",
       "    }\n",
       "\n",
       "    .dataframe tbody tr th {\n",
       "        vertical-align: top;\n",
       "    }\n",
       "\n",
       "    .dataframe thead th {\n",
       "        text-align: right;\n",
       "    }\n",
       "</style>\n",
       "<table border=\"1\" class=\"dataframe\">\n",
       "  <thead>\n",
       "    <tr style=\"text-align: right;\">\n",
       "      <th></th>\n",
       "      <th>España</th>\n",
       "      <th>Francia</th>\n",
       "      <th>Italia</th>\n",
       "    </tr>\n",
       "  </thead>\n",
       "  <tbody>\n",
       "    <tr>\n",
       "      <th>0</th>\n",
       "      <td>1</td>\n",
       "      <td>2</td>\n",
       "      <td>3</td>\n",
       "    </tr>\n",
       "    <tr>\n",
       "      <th>1</th>\n",
       "      <td>4</td>\n",
       "      <td>5</td>\n",
       "      <td>6</td>\n",
       "    </tr>\n",
       "    <tr>\n",
       "      <th>2</th>\n",
       "      <td>7</td>\n",
       "      <td>8</td>\n",
       "      <td>9</td>\n",
       "    </tr>\n",
       "    <tr>\n",
       "      <th>3</th>\n",
       "      <td>10</td>\n",
       "      <td>11</td>\n",
       "      <td>12</td>\n",
       "    </tr>\n",
       "  </tbody>\n",
       "</table>\n",
       "</div>"
      ],
      "text/plain": [
       "   España  Francia  Italia\n",
       "0       1        2       3\n",
       "1       4        5       6\n",
       "2       7        8       9\n",
       "3      10       11      12"
      ]
     },
     "execution_count": 8,
     "metadata": {},
     "output_type": "execute_result"
    }
   ],
   "source": [
    "df = pd.DataFrame(array, columns = [\"España\",\"Francia\",\"Italia\"])\n",
    "df"
   ]
  },
  {
   "cell_type": "markdown",
   "metadata": {},
   "source": [
    "\n",
    "- **Descargad el archivo \"medallas\" y cargad el dataframe con la siguiente líena de código:**\n",
    "\n",
    "    > df = pd.read_csv(\"medallas.csv\", index_col=[\"País\"])\n"
   ]
  },
  {
   "cell_type": "markdown",
   "metadata": {},
   "source": [
    "**📌 NOTA Para evitar problemas guardar el archivo medallas.csv a la misma altura que el jupyter donde estamos trabajando.**"
   ]
  },
  {
   "cell_type": "code",
   "execution_count": null,
   "metadata": {},
   "outputs": [],
   "source": [
    "df = pd.read_csv(\"./medallas.csv\")\n",
    "df"
   ]
  },
  {
   "cell_type": "markdown",
   "metadata": {},
   "source": [
    "- **Usando el loc extraed todas las columnas de la fila.**"
   ]
  },
  {
   "cell_type": "code",
   "execution_count": null,
   "metadata": {},
   "outputs": [],
   "source": [
    "df.loc[0,:]\n",
    "df"
   ]
  },
  {
   "cell_type": "markdown",
   "metadata": {},
   "source": [
    "- **Usando el loc extraed todas las columnas de China e Irán.**"
   ]
  },
  {
   "cell_type": "code",
   "execution_count": null,
   "metadata": {},
   "outputs": [],
   "source": [
    "df.loc[['China', 'Irán'], :]\n",
    "df"
   ]
  },
  {
   "cell_type": "markdown",
   "metadata": {},
   "source": [
    "- **Usando el loc extraed solo las columnas de \"Oro\", \"Plata\" y \"Bronce\" de China e Irán.**"
   ]
  },
  {
   "cell_type": "code",
   "execution_count": null,
   "metadata": {},
   "outputs": [],
   "source": [
    "df.loc[['China','Irán'],'Oro':'Bronce']\n",
    "df"
   ]
  },
  {
   "cell_type": "markdown",
   "metadata": {},
   "source": [
    "- **Usando el iloc extraed la información de la India. Devolved todas las columnas.**"
   ]
  },
  {
   "cell_type": "code",
   "execution_count": null,
   "metadata": {},
   "outputs": [],
   "source": [
    "df.iloc[5,:]\n",
    "df"
   ]
  },
  {
   "cell_type": "markdown",
   "metadata": {},
   "source": [
    "- **Usando el iloc extraed todas las columnas de los paises que estén en posición impar. La primera que nos tendría que salir es Japón y la última Corea del Norte.**"
   ]
  },
  {
   "cell_type": "code",
   "execution_count": null,
   "metadata": {},
   "outputs": [],
   "source": [
    "df.iloc[1:10:2, :]\n",
    "print(df)"
   ]
  },
  {
   "cell_type": "markdown",
   "metadata": {},
   "source": [
    "- **Utilizando el código del ejercicio anterior, seleccionad unicamente las columnas \"Oro\", \"Plata\" y \"Bronce\".**\n"
   ]
  },
  {
   "cell_type": "code",
   "execution_count": null,
   "metadata": {},
   "outputs": [],
   "source": [
    "df.iloc[1::2,1:]"
   ]
  },
  {
   "cell_type": "markdown",
   "metadata": {},
   "source": [
    "   **Contestad a las siguientes preguntas:**"
   ]
  },
  {
   "cell_type": "markdown",
   "metadata": {},
   "source": [
    "- **¿Qué país consiguió más de 200 medallas de oro?**"
   ]
  },
  {
   "cell_type": "code",
   "execution_count": null,
   "metadata": {},
   "outputs": [],
   "source": [
    "df.loc[df.Oro > 200,:] \n",
    "df"
   ]
  },
  {
   "cell_type": "markdown",
   "metadata": {},
   "source": [
    "- **¿Qué país consiguió más de 200 medallas de oro y más de 1000 de plata?**"
   ]
  },
  {
   "cell_type": "code",
   "execution_count": null,
   "metadata": {},
   "outputs": [],
   "source": [
    "df.loc[(df.Oro > 200) & (df.Plata > 1000)]\n",
    "df"
   ]
  },
  {
   "cell_type": "markdown",
   "metadata": {},
   "source": [
    "- **¿Qué país consiguió más de 200 medallas de oro o más de 700 de bronce?**"
   ]
  },
  {
   "cell_type": "code",
   "execution_count": null,
   "metadata": {},
   "outputs": [],
   "source": [
    "df.loc[(df.Oro > 200) | (df.Bronce > 700)]\n",
    "df"
   ]
  },
  {
   "cell_type": "markdown",
   "metadata": {},
   "source": [
    "**Como vemos hay una columna que se llama Unnamed: 0 que no nos interesa. Eliminad esa columna.**"
   ]
  },
  {
   "cell_type": "code",
   "execution_count": null,
   "metadata": {},
   "outputs": [],
   "source": [
    "df = df.drop([\"Unnamed: 0\"], axis=1) # 0 es filas y 1 es columnas\n",
    "\n",
    "#Se puede ultizar \"del\", para eliminar solo una columna. \"drop\" podemos utilizar para eliminar varias columnas a la vez.\n",
    "#del df['Unnamed:0 ']"
   ]
  },
  {
   "cell_type": "markdown",
   "metadata": {},
   "source": [
    "**Cread una nueva columma que se llame \"total\" que sea el resultado de la suma de todas las medallas obtenidas por cada país.**"
   ]
  },
  {
   "cell_type": "code",
   "execution_count": null,
   "metadata": {},
   "outputs": [],
   "source": [
    "df = df.assign(total_medallas = df[\"Oro\"] + df[\"Plata\"] + df[\"Bronce\"])\n",
    "df"
   ]
  }
 ],
 "metadata": {
  "interpreter": {
   "hash": "40d3a090f54c6569ab1632332b64b2c03c39dcf918b08424e98f38b5ae0af88f"
  },
  "kernelspec": {
   "display_name": "Python 3.9.7 ('base')",
   "language": "python",
   "name": "python3"
  },
  "language_info": {
   "codemirror_mode": {
    "name": "ipython",
    "version": 3
   },
   "file_extension": ".py",
   "mimetype": "text/x-python",
   "name": "python",
   "nbconvert_exporter": "python",
   "pygments_lexer": "ipython3",
   "version": "3.9.7"
  },
  "orig_nbformat": 4
 },
 "nbformat": 4,
 "nbformat_minor": 2
}
