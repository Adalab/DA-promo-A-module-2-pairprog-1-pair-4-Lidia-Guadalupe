{
 "cells": [
  {
   "cell_type": "code",
   "execution_count": null,
   "metadata": {},
   "outputs": [],
   "source": [
    "import matplotlib.pyplot as plt\n",
    "import numpy as np \n",
    "import seaborn as sns"
   ]
  },
  {
   "cell_type": "markdown",
   "metadata": {},
   "source": [
    "**Sigamos con más visualizaciones. En este caso trabajaremos con el csv que generamos en el ejercicio de pair programming de Pandas V, ese en el que habíamos unidos distintos csv en uno.**\n",
    "\n",
    "**El objetivo de hoy, mejorar algunas de las gráficas que hicimos en el ejericio de pair programming de ayer y crear algunas nuevas aprovechando que tenemos algunas columnas nuevas en dataframe.**\n",
    "\n",
    "**Las preguntas que tendréis que contestar son:**"
   ]
  },
  {
   "cell_type": "markdown",
   "metadata": {},
   "source": [
    "\n",
    "**1. Ayer creamos un par de gráficas para USA y España, donde visualizamos el número de ataques en cada país a lo largo de los años y el tipo de los ataques.**\n",
    "**Hoy tendréis que hacer dos gráficas con subplots:**"
   ]
  },
  {
   "cell_type": "code",
   "execution_count": null,
   "metadata": {},
   "outputs": [],
   "source": [
    "df_attackusa\n",
    "df_attackspaim"
   ]
  },
  {
   "cell_type": "markdown",
   "metadata": {},
   "source": [
    "**En la primera debéis mostrar los tipos ataques en USA y España, cada subplot corresponderá a un país. Debéis:**\n",
    "- **Ponerle nombre a los ejes de cada uno de los subplots**\n",
    "- **Ponerle un títulos a cada uno de los subplots**\n",
    "- **Poner el color de las lineas en negro.**\n",
    "- **Establecer el tamaño de la gráfica a 15 x 5**\n",
    "- **Ponerle marcadores a las gráficas**\n",
    "- **No incluid leyenda**"
   ]
  },
  {
   "cell_type": "code",
   "execution_count": null,
   "metadata": {},
   "outputs": [],
   "source": [
    "x= españa y Usa \n",
    "y=tipo de ataque"
   ]
  },
  {
   "cell_type": "markdown",
   "metadata": {},
   "source": [
    "**En la segunda debéis mostrar los ataques por año para cada uno de los paises.**\n",
    "- **De nuevo tendréis que ponerle nombre a los ejes y título a cada gráfica.**\n",
    "- **En este caso el subplot deberá tener dos filas y una columna**\n",
    "- **No incluir leyenda**\n",
    "- **Cambiar el color de las barras**"
   ]
  },
  {
   "cell_type": "code",
   "execution_count": null,
   "metadata": {},
   "outputs": [],
   "source": [
    "x =españa , Usa \n",
    "y = años"
   ]
  },
  {
   "cell_type": "markdown",
   "metadata": {},
   "source": [
    "**2. Cread un único gráfico donde juntéis las gráficas de los tipos de ataques en una sola. Debéis:**\n",
    "- **Poner leyenda a la gráfica**\n",
    "- **Cada línea debe ir en un color**\n",
    "- **Ponerle nombre a los ejes y a la gráfica.**\n",
    "- **Poner marcadores a las lineas**"
   ]
  },
  {
   "cell_type": "code",
   "execution_count": null,
   "metadata": {},
   "outputs": [],
   "source": [
    "x=\n",
    "y=\n",
    "\n",
    "x2=\n",
    "y2=\n",
    "\n"
   ]
  },
  {
   "cell_type": "markdown",
   "metadata": {},
   "source": [
    "**3. Guardad las figuras creadas en cada caso. Podéis usar el formato que queráis. Guarda todas las fotos en una carpeta llamada Visualizacion-II.**"
   ]
  },
  {
   "cell_type": "code",
   "execution_count": null,
   "metadata": {},
   "outputs": [],
   "source": [
    "plt.savefig(nombre.tiff)"
   ]
  }
 ],
 "metadata": {
  "interpreter": {
   "hash": "40d3a090f54c6569ab1632332b64b2c03c39dcf918b08424e98f38b5ae0af88f"
  },
  "kernelspec": {
   "display_name": "Python 3.9.7 ('base')",
   "language": "python",
   "name": "python3"
  },
  "language_info": {
   "name": "python",
   "version": "3.9.7"
  },
  "orig_nbformat": 4
 },
 "nbformat": 4,
 "nbformat_minor": 2
}
