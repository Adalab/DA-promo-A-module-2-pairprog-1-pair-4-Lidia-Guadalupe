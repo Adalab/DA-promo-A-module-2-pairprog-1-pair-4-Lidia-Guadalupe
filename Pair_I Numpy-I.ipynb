{
 "cells": [
  {
   "cell_type": "code",
   "execution_count": 1,
   "metadata": {},
   "outputs": [],
   "source": [
    "import numpy as np"
   ]
  },
  {
   "cell_type": "markdown",
   "metadata": {},
   "source": [
    "1. Cread tres arrays: de una, dos y tres dimensiones.\n",
    "\n",
    "Lo podéis hacer usando los métodos de random que hemos aprendido o a través de listas em algunos casos.\n",
    "\n",
    "📌 Nota\n",
    "- El array de 2 dimensiones debe ser de 2 filas y 3 columnas\n",
    "- El array de 3 dimensiones debe ser de 2 matrices, 3 filas y 5 columnas"
   ]
  },
  {
   "cell_type": "code",
   "execution_count": 2,
   "metadata": {},
   "outputs": [
    {
     "name": "stdout",
     "output_type": "stream",
     "text": [
      "[1 2 3]\n",
      "[[[0.46870965 0.37904834 0.06615819]\n",
      "  [0.44157644 0.89985209 0.78874052]]\n",
      "\n",
      " [[0.06457656 0.19770114 0.99180821]\n",
      "  [0.08115993 0.8565591  0.65161761]]]\n",
      "[[[0.54029091 0.52958611 0.37448215 0.14555468 0.4429058 ]\n",
      "  [0.41663122 0.04152802 0.43736471 0.3771082  0.54480584]\n",
      "  [0.84162197 0.44172664 0.96868316 0.41973111 0.85534808]]\n",
      "\n",
      " [[0.291088   0.55102308 0.60240295 0.06960854 0.54301208]\n",
      "  [0.85031484 0.85820247 0.37404967 0.05940947 0.25659239]\n",
      "  [0.20835306 0.68887776 0.21909309 0.1837065  0.62658988]]]\n"
     ]
    }
   ],
   "source": [
    "#array de 1 dimension\n",
    "\n",
    "lista = [1,2,3]\n",
    "array = np.array(lista)\n",
    "print(array)\n",
    "\n",
    "#array de 2 dimensiones \n",
    "\n",
    "array1 = np.random.rand(2,2,3)\n",
    "print(array1)\n",
    "\n",
    "#array multidimensional\n",
    "\n",
    "array2 = np.random.rand(2,3,5)\n",
    "print(array2)\n",
    "\n",
    "\n"
   ]
  },
  {
   "cell_type": "markdown",
   "metadata": {},
   "source": [
    "2. Chequed las las propiedades básicas de cada array que os hayáis creado. Usad en una función que nos devuelva las propiedades de una array que le pasemos."
   ]
  },
  {
   "cell_type": "code",
   "execution_count": 3,
   "metadata": {},
   "outputs": [
    {
     "name": "stdout",
     "output_type": "stream",
     "text": [
      "(2, 2, 3)\n",
      "12\n",
      "3\n",
      "float64\n"
     ]
    }
   ],
   "source": [
    "def propiedades (array):\n",
    "\n",
    "    print(array.shape)\n",
    "    print(array.size)\n",
    "    print(array.ndim)\n",
    "    print(array.dtype)\n",
    "\n",
    "propiedades(array1)\n"
   ]
  },
  {
   "cell_type": "markdown",
   "metadata": {},
   "source": [
    "3. Cread una matriz identidad de dos dimensiones de 3 filas y 3 columnas"
   ]
  },
  {
   "cell_type": "code",
   "execution_count": 4,
   "metadata": {},
   "outputs": [
    {
     "name": "stdout",
     "output_type": "stream",
     "text": [
      "[[1. 0. 0.]\n",
      " [0. 1. 0.]\n",
      " [0. 0. 1.]]\n",
      "[[1. 0. 0.]\n",
      " [0. 1. 0.]\n",
      " [0. 0. 1.]]\n"
     ]
    }
   ],
   "source": [
    "array3 = np.eye (3,3) #si permite mover la diagonal\n",
    "print(array3)\n",
    "\n",
    "array4 = np.identity (3) #no permite mover la diagonal\n",
    "print(array4)"
   ]
  },
  {
   "cell_type": "markdown",
   "metadata": {},
   "source": [
    "4. Cread una matriz de tres dimensiones de unos igual a la martiz de tres dimensiones creada en el primer ejercicio."
   ]
  },
  {
   "cell_type": "code",
   "execution_count": 5,
   "metadata": {},
   "outputs": [
    {
     "name": "stdout",
     "output_type": "stream",
     "text": [
      "[[[0.54029091 0.52958611 0.37448215 0.14555468 0.4429058 ]\n",
      "  [0.41663122 0.04152802 0.43736471 0.3771082  0.54480584]\n",
      "  [0.84162197 0.44172664 0.96868316 0.41973111 0.85534808]]\n",
      "\n",
      " [[0.291088   0.55102308 0.60240295 0.06960854 0.54301208]\n",
      "  [0.85031484 0.85820247 0.37404967 0.05940947 0.25659239]\n",
      "  [0.20835306 0.68887776 0.21909309 0.1837065  0.62658988]]]\n"
     ]
    }
   ],
   "source": [
    "#array2 = np.random.rand(2,3,5)\n",
    "#print(array2)\n",
    "\n",
    "array5 = np.empty_like(array2)\n",
    "print(array5)"
   ]
  },
  {
   "cell_type": "markdown",
   "metadata": {},
   "source": [
    "5. Es el momento de hacer algunas operaciones entre arrays\n",
    "\n",
    "¿Se puede sumar el array de dos dimensiones que creamos en el primer ejecicios a la matriz identidad? ¿Por qué?\n"
   ]
  },
  {
   "cell_type": "code",
   "execution_count": 6,
   "metadata": {},
   "outputs": [
    {
     "ename": "ValueError",
     "evalue": "operands could not be broadcast together with shapes (2,2,3) (3,3) ",
     "output_type": "error",
     "traceback": [
      "\u001b[0;31m---------------------------------------------------------------------------\u001b[0m",
      "\u001b[0;31mValueError\u001b[0m                                Traceback (most recent call last)",
      "\u001b[0;32m/var/folders/rp/8_fhdgqx4mv2kkv4dswj4tq40000gn/T/ipykernel_4771/2661857879.py\u001b[0m in \u001b[0;36m<module>\u001b[0;34m\u001b[0m\n\u001b[1;32m      2\u001b[0m \u001b[0marray4\u001b[0m \u001b[0;34m=\u001b[0m \u001b[0mnp\u001b[0m\u001b[0;34m.\u001b[0m\u001b[0midentity\u001b[0m \u001b[0;34m(\u001b[0m\u001b[0;36m3\u001b[0m\u001b[0;34m)\u001b[0m\u001b[0;34m\u001b[0m\u001b[0;34m\u001b[0m\u001b[0m\n\u001b[1;32m      3\u001b[0m \u001b[0;34m\u001b[0m\u001b[0m\n\u001b[0;32m----> 4\u001b[0;31m \u001b[0marray6\u001b[0m \u001b[0;34m=\u001b[0m \u001b[0mnp\u001b[0m\u001b[0;34m.\u001b[0m\u001b[0madd\u001b[0m\u001b[0;34m(\u001b[0m\u001b[0marray1\u001b[0m\u001b[0;34m,\u001b[0m\u001b[0marray4\u001b[0m\u001b[0;34m)\u001b[0m\u001b[0;34m\u001b[0m\u001b[0;34m\u001b[0m\u001b[0m\n\u001b[0m\u001b[1;32m      5\u001b[0m \u001b[0mprint\u001b[0m\u001b[0;34m(\u001b[0m\u001b[0marray6\u001b[0m\u001b[0;34m)\u001b[0m\u001b[0;34m\u001b[0m\u001b[0;34m\u001b[0m\u001b[0m\n\u001b[1;32m      6\u001b[0m \u001b[0;34m\u001b[0m\u001b[0m\n",
      "\u001b[0;31mValueError\u001b[0m: operands could not be broadcast together with shapes (2,2,3) (3,3) "
     ]
    }
   ],
   "source": [
    "array1 = np.random.rand(2,2,3)\n",
    "array4 = np.identity (3)\n",
    "\n",
    "array6 = np.add(array1,array4)\n",
    "print(array6)\n",
    "\n",
    "# No se puede sumar por que no tienen la misma forma.\n"
   ]
  },
  {
   "cell_type": "markdown",
   "metadata": {},
   "source": [
    "En caso de que no se puedan sumar, busca una solución para sumar una matriz identidad a otra. La solución puede ser crear un array nuevo.\n",
    "\n",
    "Multiplicad la matriz identidad por la nueva matriz que os creasteis en el ejercicio anterior.\n",
    "\n",
    "Dividid las dos matricess"
   ]
  },
  {
   "cell_type": "code",
   "execution_count": 25,
   "metadata": {},
   "outputs": [
    {
     "name": "stdout",
     "output_type": "stream",
     "text": [
      "[[[0.36801785 0.52564162 0.3564196 ]\n",
      "  [0.13801163 0.52653105 0.3721716 ]]\n",
      "\n",
      " [[0.83653279 0.5903599  0.84099054]\n",
      "  [0.50856668 0.62697117 0.71091764]]]\n",
      "[[[1. 1. 1.]\n",
      "  [1. 1. 1.]]\n",
      "\n",
      " [[1. 1. 1.]\n",
      "  [1. 1. 1.]]]\n",
      "Suma: [[[1.36801785 1.52564162 1.3564196 ]\n",
      "  [1.13801163 1.52653105 1.3721716 ]]\n",
      "\n",
      " [[1.83653279 1.5903599  1.84099054]\n",
      "  [1.50856668 1.62697117 1.71091764]]]\n",
      "Multiplicar: [[[0.36801785 0.52564162 0.3564196 ]\n",
      "  [0.13801163 0.52653105 0.3721716 ]]\n",
      "\n",
      " [[0.83653279 0.5903599  0.84099054]\n",
      "  [0.50856668 0.62697117 0.71091764]]]\n",
      "Dividir: [[[0.36801785 0.52564162 0.3564196 ]\n",
      "  [0.13801163 0.52653105 0.3721716 ]]\n",
      "\n",
      " [[0.83653279 0.5903599  0.84099054]\n",
      "  [0.50856668 0.62697117 0.71091764]]]\n"
     ]
    }
   ],
   "source": [
    "array1 = np.random.rand(2,2,3)\n",
    "print(array1)\n",
    "\n",
    "array4 = np.ones_like(array1)\n",
    "print(array4)\n",
    "\n",
    "#suma \n",
    "suma = array1 + array4\n",
    "#suma = np.add(array1,array4) \n",
    "print(\"Suma:\",suma)\n",
    "\n",
    "#multiplicar\n",
    "multi = array1 * array4\n",
    "#multiplicar = np.multiply(array1,array4) \n",
    "print(\"Multiplicar:\", multi)\n",
    "\n",
    "#dividir\n",
    "div = array1 / array4\n",
    "#dividir = np.divide(array1,array4) \n",
    "print(\"Dividir:\", div)\n"
   ]
  }
 ],
 "metadata": {
  "interpreter": {
   "hash": "40d3a090f54c6569ab1632332b64b2c03c39dcf918b08424e98f38b5ae0af88f"
  },
  "kernelspec": {
   "display_name": "Python 3.9.7 ('base')",
   "language": "python",
   "name": "python3"
  },
  "language_info": {
   "codemirror_mode": {
    "name": "ipython",
    "version": 3
   },
   "file_extension": ".py",
   "mimetype": "text/x-python",
   "name": "python",
   "nbconvert_exporter": "python",
   "pygments_lexer": "ipython3",
   "version": "3.9.7"
  },
  "orig_nbformat": 4
 },
 "nbformat": 4,
 "nbformat_minor": 2
}
