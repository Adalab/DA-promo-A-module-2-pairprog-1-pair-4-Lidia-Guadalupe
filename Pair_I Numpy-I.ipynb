{
 "cells": [
  {
   "cell_type": "code",
   "execution_count": 23,
   "metadata": {},
   "outputs": [],
   "source": [
    "import numpy as np"
   ]
  },
  {
   "cell_type": "markdown",
   "metadata": {},
   "source": [
    "1. Cread tres arrays: de una, dos y tres dimensiones.\n",
    "\n",
    "Lo podéis hacer usando los métodos de random que hemos aprendido o a través de listas em algunos casos.\n",
    "\n",
    "📌 Nota\n",
    "- El array de 2 dimensiones debe ser de 2 filas y 3 columnas\n",
    "- El array de 3 dimensiones debe ser de 2 matrices, 3 filas y 5 columnas"
   ]
  },
  {
   "cell_type": "code",
   "execution_count": 28,
   "metadata": {},
   "outputs": [
    {
     "name": "stdout",
     "output_type": "stream",
     "text": [
      "[1 2 3]\n",
      "[[[0.96225071 0.61886047 0.76278444]\n",
      "  [0.69400798 0.81898302 0.61682138]]\n",
      "\n",
      " [[0.48470665 0.06991255 0.03218973]\n",
      "  [0.07679452 0.62072883 0.82927763]]]\n",
      "[[[0.78010648 0.80415893 0.37145    0.198162   0.6784933 ]\n",
      "  [0.40042021 0.28964961 0.33643651 0.78714168 0.40149397]\n",
      "  [0.20397419 0.75127133 0.49593789 0.37518561 0.38302372]]\n",
      "\n",
      " [[0.97814714 0.24764349 0.13246073 0.41533396 0.44101648]\n",
      "  [0.72015852 0.62993118 0.08693379 0.27305427 0.46420225]\n",
      "  [0.18001778 0.93450182 0.98184152 0.89270382 0.12449787]]]\n"
     ]
    }
   ],
   "source": [
    "#array de 1 dimension\n",
    "\n",
    "lista = [1,2,3]\n",
    "array = np.array(lista)\n",
    "print(array)\n",
    "\n",
    "\n",
    "#array de 2 dimensiones #reapasaR!!!!!!!!!!!!!\n",
    "\n",
    "array1 = np.random.rand(2,2,3)\n",
    "print(array1)\n",
    "\n",
    "#array multidimensional\n",
    "\n",
    "array2 = np.random.rand(2,3,5)\n",
    "print(array2)\n",
    "\n",
    "\n"
   ]
  },
  {
   "cell_type": "markdown",
   "metadata": {},
   "source": [
    "2. Chequed las las propiedades básicas de cada array que os hayáis creado. Usad en una función que nos devuelva las propiedades de una array que le pasemos."
   ]
  },
  {
   "cell_type": "code",
   "execution_count": 29,
   "metadata": {},
   "outputs": [
    {
     "name": "stdout",
     "output_type": "stream",
     "text": [
      "(2, 2, 3)\n",
      "12\n",
      "3\n",
      "float64\n"
     ]
    }
   ],
   "source": [
    "def propiedades (array):\n",
    "\n",
    "    print(array.shape)\n",
    "    print(array.size)\n",
    "    print(array.ndim)\n",
    "    print(array.dtype)\n",
    "\n",
    "propiedades(array1)\n"
   ]
  },
  {
   "cell_type": "markdown",
   "metadata": {},
   "source": [
    "3. Cread una matriz identidad de dos dimensiones de 3 filas y 3 columnas"
   ]
  },
  {
   "cell_type": "code",
   "execution_count": null,
   "metadata": {},
   "outputs": [
    {
     "name": "stdout",
     "output_type": "stream",
     "text": [
      "[[1. 0. 0.]\n",
      " [0. 1. 0.]\n",
      " [0. 0. 1.]]\n",
      "[[1. 0. 0.]\n",
      " [0. 1. 0.]\n",
      " [0. 0. 1.]]\n"
     ]
    }
   ],
   "source": [
    "array3 = np.eye (3,3) #si permite mover la diagonal  DUDAAAAAAAAAAA\n",
    "print(array3)\n",
    "\n",
    "array4 = np.identity (3) #no permite mover la diagonal\n",
    "print(array4)"
   ]
  },
  {
   "cell_type": "markdown",
   "metadata": {},
   "source": [
    "4. Cread una matriz de tres dimensiones de unos igual a la martiz de tres dimensiones creada en el primer ejercicio."
   ]
  },
  {
   "cell_type": "code",
   "execution_count": null,
   "metadata": {},
   "outputs": [
    {
     "name": "stdout",
     "output_type": "stream",
     "text": [
      "[[[0.84523075 0.76376614 0.4393994  0.11644788 0.34030121]\n",
      "  [0.71692336 0.23097678 0.15752435 0.18764259 0.75822072]\n",
      "  [0.94140944 0.52190927 0.91392378 0.41013368 0.09400359]]\n",
      "\n",
      " [[0.34992173 0.88392194 0.7263315  0.02278851 0.55251965]\n",
      "  [0.51668237 0.36286662 0.5340896  0.34265317 0.40910079]\n",
      "  [0.69486195 0.93990408 0.63696558 0.39099122 0.93230012]]]\n"
     ]
    }
   ],
   "source": [
    "#array2 = np.random.rand(2,3,5)\n",
    "#print(array2)\n",
    "\n",
    "array5 = np.empty_like(array2)\n",
    "print(array5)"
   ]
  },
  {
   "cell_type": "markdown",
   "metadata": {},
   "source": [
    "5. Es el momento de hacer algunas operaciones entre arrays\n",
    "\n",
    "¿Se puede sumar el array de dos dimensiones que creamos en el primer ejecicios a la matriz identidad? ¿Por qué?\n"
   ]
  },
  {
   "cell_type": "code",
   "execution_count": null,
   "metadata": {},
   "outputs": [],
   "source": [
    "array1 = np.random.rand(2,2,3)\n",
    "array4 = np.identity (3)\n",
    "\n",
    "array6 = np.add(array1,array4)\n",
    "print(array6)\n",
    "\n",
    "#No se puede sumar por que no tienen la misma forma.\n"
   ]
  },
  {
   "cell_type": "markdown",
   "metadata": {},
   "source": [
    "En caso de que no se puedan sumar, busca una solución para sumar una matriz identidad a otra. La solución puede ser crear un array nuevo.\n",
    "\n",
    "Multiplicad la matriz identidad por la nueva matriz que os creasteis en el ejercicio anterior.\n",
    "\n",
    "Dividid las dos matricess"
   ]
  },
  {
   "cell_type": "code",
   "execution_count": 39,
   "metadata": {},
   "outputs": [
    {
     "name": "stdout",
     "output_type": "stream",
     "text": [
      "[[[0.74560571 0.47018344 0.8371074 ]\n",
      "  [0.01319916 0.28511281 0.88862141]\n",
      "  [0.64094191 0.1895635  0.59131595]]\n",
      "\n",
      " [[0.24182037 0.96455544 0.45593767]\n",
      "  [0.99261299 0.80906202 0.55967722]\n",
      "  [0.70226437 0.60010053 0.37543256]]]\n"
     ]
    }
   ],
   "source": [
    "array1 = np.random.rand(2,3,3)\n",
    "print(array1)"
   ]
  },
  {
   "cell_type": "code",
   "execution_count": 35,
   "metadata": {},
   "outputs": [
    {
     "name": "stdout",
     "output_type": "stream",
     "text": [
      "[[[1.08465574 0.47191271 0.44198584]\n",
      "  [0.00420891 1.38628434 0.10901005]\n",
      "  [0.63088624 0.22614132 1.74556128]]\n",
      "\n",
      " [[1.59589823 0.03139207 0.76496073]\n",
      "  [0.27837729 1.85563088 0.77758471]\n",
      "  [0.27119597 0.93150883 1.84008334]]]\n"
     ]
    }
   ],
   "source": [
    "array1 = np.random.rand(2,3,3)\n",
    "array4 = np.identity (2)\n",
    "\n",
    "array6 = np.add(array1,array4)\n",
    "print(array6)\n"
   ]
  },
  {
   "cell_type": "code",
   "execution_count": 38,
   "metadata": {},
   "outputs": [
    {
     "name": "stdout",
     "output_type": "stream",
     "text": [
      "[[[1.44356442 0.71605917 0.76935311]\n",
      "  [0.14968389 1.51716992 0.75965623]\n",
      "  [0.74883448 0.68889226 1.40475578]]\n",
      "\n",
      " [[1.78493205 0.45863119 0.81739059]\n",
      "  [0.12637699 1.89954955 0.98375121]\n",
      "  [0.57938146 0.68003298 1.88691294]]]\n"
     ]
    }
   ],
   "source": [
    "array1 = np.random.rand(2,3,3)\n",
    "array4 = np.identity (3)\n",
    "\n",
    "array6 = np.add(array1,array4)\n",
    "print(array6)\n"
   ]
  }
 ],
 "metadata": {
  "interpreter": {
   "hash": "40d3a090f54c6569ab1632332b64b2c03c39dcf918b08424e98f38b5ae0af88f"
  },
  "kernelspec": {
   "display_name": "Python 3.9.7 ('base')",
   "language": "python",
   "name": "python3"
  },
  "language_info": {
   "codemirror_mode": {
    "name": "ipython",
    "version": 3
   },
   "file_extension": ".py",
   "mimetype": "text/x-python",
   "name": "python",
   "nbconvert_exporter": "python",
   "pygments_lexer": "ipython3",
   "version": "3.9.7"
  },
  "orig_nbformat": 4
 },
 "nbformat": 4,
 "nbformat_minor": 2
}
