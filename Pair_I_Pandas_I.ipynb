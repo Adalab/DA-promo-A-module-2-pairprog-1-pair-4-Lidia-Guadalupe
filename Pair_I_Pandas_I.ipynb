{
 "cells": [
  {
   "cell_type": "markdown",
   "metadata": {},
   "source": [
    "Empezamos los ejercicios depair programming con Pandas. En esta lección hemos aprendido que son las Series y DataFrames y como podemos crearlos en Python."
   ]
  },
  {
   "cell_type": "code",
   "execution_count": 3,
   "metadata": {},
   "outputs": [],
   "source": [
    "import pandas as pd\n",
    "import numpy as np"
   ]
  },
  {
   "cell_type": "markdown",
   "metadata": {},
   "source": [
    "Empezamos los ejercicios depair programming con Pandas. En esta lección hemos aprendido que son las Series y DataFrames y como podemos crearlos en Python.\n",
    "\n",
    "El objetivo de la clase de hoy será crear unos cuántos dataframes y series a trvés de los siguientes ejercicios:\n",
    "\n",
    "- ¿Qué diferencia hay entre una Serie y un Dataframe?\n"
   ]
  },
  {
   "cell_type": "code",
   "execution_count": 4,
   "metadata": {},
   "outputs": [],
   "source": [
    "#Serie: una dimensión, que contiene un array de datos. Tiene dos componentes principales que son los indices y vector.\n",
    "\n",
    "#DataFrame: 2 dimensiones, se pueden guardar datos de distinto tipo (string, entero, float,..),la diferencia es que hay más dimensiones y por lo tanto podemos tener mas columnas con valores."
   ]
  },
  {
   "cell_type": "markdown",
   "metadata": {},
   "source": [
    "Momento de trabajar con Series. Contestas las siguientes preguntas:\n",
    "\n",
    "Crea dos listas:\n",
    "- Una que se llame \"valores\" que tenga 7 números aleatorios.\n",
    "- Otra que se llame \"indices\" que tenga 7 strings que se llamen como los dias de la semana.\n",
    "\n",
    "A partir de estas dos listas crea una Serie donde la variable \"valores\" sean los valores de la Serie y la variable indices sean los índices de la Serie."
   ]
  },
  {
   "cell_type": "code",
   "execution_count": 5,
   "metadata": {},
   "outputs": [
    {
     "name": "stdout",
     "output_type": "stream",
     "text": [
      "lunes        11\n",
      "martes       12\n",
      "miercoles    13\n",
      "jueves       14\n",
      "viernes      15\n",
      "sabado       16\n",
      "domingo      17\n",
      "dtype: int64\n"
     ]
    }
   ],
   "source": [
    "valores = [11,12,13,14,15,16,17]\n",
    "\n",
    "indices = [\"lunes\", \"martes\",\"miercoles\",\"jueves\",\"viernes\",\"sabado\",\"domingo\",]\n",
    "\n",
    "serie1 = pd.Series(valores, index = indices)\n",
    "\n",
    "print(serie1)"
   ]
  },
  {
   "cell_type": "markdown",
   "metadata": {},
   "source": [
    "A partir de las dos listas anteriores crea un diccionario usando un for. Para hacer esto tenemos el método zip que nos permite iterar por dos listas a la vez. Más informción sobre este método aquí."
   ]
  },
  {
   "cell_type": "code",
   "execution_count": 6,
   "metadata": {},
   "outputs": [
    {
     "name": "stdout",
     "output_type": "stream",
     "text": [
      "{11: 'lunes', 12: 'martes', 13: 'miercoles', 14: 'jueves', 15: 'viernes', 16: 'sabado', 17: 'domingo'}\n"
     ]
    }
   ],
   "source": [
    "valores = [11,12,13,14,15,16,17]\n",
    "indices = [\"lunes\", \"martes\",\"miercoles\",\"jueves\",\"viernes\",\"sabado\",\"domingo\"]\n",
    "\n",
    "serie2 = {}\n",
    "\n",
    "for uno,dos in zip(valores,indices): \n",
    "    serie2 [uno] = dos\n",
    "\n",
    "#serie2 = dict((zip(valores,indices)))  # se puede hacer asi, pero con buclo FOR arriba.\n",
    "print(serie2)\n"
   ]
  },
  {
   "cell_type": "markdown",
   "metadata": {},
   "source": [
    "Crea una Serie con el diccionario creado en el punto anterior.\n",
    "- ¿Qué forma tiene esta última Serie?\n",
    "- ¿Qué tipo de datos tiene?\n",
    "- ¿Qué tamaño tiene?\n",
    "- ¿Cuáles son los índices de la Serie?\n",
    "- ¿Y los values?\n",
    "- Extraed el valor para el índice \"lunes\"\n",
    "- Extraed el valor para el índice \"lunes\", \"martes\" y \"miércoles\"\n",
    "- Extraed el valor para el índice \"lunes\" y \"domingo\""
   ]
  },
  {
   "cell_type": "code",
   "execution_count": 7,
   "metadata": {},
   "outputs": [
    {
     "name": "stdout",
     "output_type": "stream",
     "text": [
      "11        lunes\n",
      "12       martes\n",
      "13    miercoles\n",
      "14       jueves\n",
      "15      viernes\n",
      "16       sabado\n",
      "17      domingo\n",
      "dtype: object\n",
      "Int64Index([11, 12, 13, 14, 15, 16, 17], dtype='int64')\n",
      "['lunes' 'martes' 'miercoles' 'jueves' 'viernes' 'sabado' 'domingo']\n",
      "(7,)\n",
      "7\n",
      "object\n",
      "lunes\n",
      "['lunes' 'martes' 'miercoles']\n",
      "['lunes' 'domingo']\n"
     ]
    }
   ],
   "source": [
    "serie2 \n",
    "\n",
    "serie3 = pd.Series(serie2)\n",
    "print(serie3)\n",
    "\n",
    "def propiedades (serie3):\n",
    "    print(serie3.index) \n",
    "    print(serie3.values) \n",
    "    print(serie3.shape) #forma de la serie\n",
    "    print(serie3.size) #nos devuelve nº elementos de la serie\n",
    "    print(serie3.dtype) #tipo de datos\n",
    "\n",
    "propiedades(serie3)\n",
    "\n",
    "print(serie3.values[0])\n",
    "print(serie3.values[:3])\n",
    "print(serie3.values[[0,6]])\n"
   ]
  },
  {
   "cell_type": "markdown",
   "metadata": {},
   "source": [
    "Es el turno de los dataframes\n",
    "- Cread un array de dos dimensiones con 4 filas y 3 columnas.\n",
    "- Convertid el array en un dataframe donde las columnas se llamen \"España\", \"Francia\" e \"Italia\"."
   ]
  },
  {
   "cell_type": "code",
   "execution_count": 8,
   "metadata": {},
   "outputs": [
    {
     "name": "stdout",
     "output_type": "stream",
     "text": [
      "[[ 1  2  3]\n",
      " [ 4  5  6]\n",
      " [ 7  8  9]\n",
      " [10 11 12]]\n",
      "   España  Francia  Italia\n",
      "0       1        2       3\n",
      "1       4        5       6\n",
      "2       7        8       9\n",
      "3      10       11      12\n"
     ]
    }
   ],
   "source": [
    "array = np.array([[1,2,3],[4,5,6],[7,8,9],[10,11,12]])\n",
    "df = pd.DataFrame(array)\n",
    "print(array)\n",
    "\n",
    "df = pd.DataFrame(array, columns = [\"España\",\"Francia\",\"Italia\"])\n",
    "print(df)"
   ]
  },
  {
   "cell_type": "markdown",
   "metadata": {},
   "source": [
    "\n",
    "Descargad el archivo \"medallas\" y cargad el dataframe con la siguiente líena de código:\n",
    "    df = pd.read_csv(\"medallas.csv\", index_col=[\"País\"])\n",
    "\n",
    "📌 NOTA Para evitar problemas guardar el archivo medallas.csv a la misma altura que el jupyter donde estamos trabajando.\n",
    "\n",
    "- Usando el loc extraed todas las columnas de la fila.\n",
    "- Usando el loc extraed todas las columnas de China e Irán.\n",
    "- Usando el locextraed solo las columnas de \"Oro\", \"Plata\" y \"Bronce\" de China e Irán.\n",
    "- Usando el iloc extraed la información de la India. Devolved todas las columnas\n",
    "- Usando el ilocextraed todas las columnas de los paises que estén en posición impar. La primera que nos tendría que salir es Japón y la última Corea del Norte.\n"
   ]
  },
  {
   "cell_type": "code",
   "execution_count": 13,
   "metadata": {},
   "outputs": [
    {
     "name": "stdout",
     "output_type": "stream",
     "text": [
      "   Unnamed: 0             País   Oro  Plata  Bronce\n",
      "0           1            China  1473    994     720\n",
      "1           2            Japón  1032   1037     985\n",
      "2           3    Corea del Sur   745    663     827\n",
      "3           4             Irán   179    181     197\n",
      "4           5       Kazajistán   155    158     224\n",
      "5           6            India   154    202     315\n",
      "6           7        Tailandia   132    175     278\n",
      "7           8        Indonesia   112    131     240\n",
      "8           9     China Taipéi    99    144     276\n",
      "9          10  Corea del Norte    91    120     235\n",
      "Unnamed: 0        1\n",
      "País          China\n",
      "Oro            1473\n",
      "Plata           994\n",
      "Bronce          720\n",
      "Name: 0, dtype: object\n"
     ]
    },
    {
     "ename": "IndexingError",
     "evalue": "Too many indexers",
     "output_type": "error",
     "traceback": [
      "\u001b[0;31m---------------------------------------------------------------------------\u001b[0m",
      "\u001b[0;31mIndexingError\u001b[0m                             Traceback (most recent call last)",
      "\u001b[0;32m/var/folders/rp/8_fhdgqx4mv2kkv4dswj4tq40000gn/T/ipykernel_3075/3915332071.py\u001b[0m in \u001b[0;36m<module>\u001b[0;34m\u001b[0m\n\u001b[1;32m      6\u001b[0m \u001b[0mprint\u001b[0m\u001b[0;34m(\u001b[0m\u001b[0mdf\u001b[0m\u001b[0;34m.\u001b[0m\u001b[0mloc\u001b[0m\u001b[0;34m[\u001b[0m\u001b[0;36m0\u001b[0m\u001b[0;34m,\u001b[0m\u001b[0;34m:\u001b[0m\u001b[0;34m]\u001b[0m\u001b[0;34m)\u001b[0m \u001b[0;31m# me da la info de fila 0 y todas sus columnas\u001b[0m\u001b[0;34m\u001b[0m\u001b[0;34m\u001b[0m\u001b[0m\n\u001b[1;32m      7\u001b[0m \u001b[0;34m\u001b[0m\u001b[0m\n\u001b[0;32m----> 8\u001b[0;31m \u001b[0mprint\u001b[0m\u001b[0;34m(\u001b[0m\u001b[0mdf\u001b[0m\u001b[0;34m.\u001b[0m\u001b[0mloc\u001b[0m\u001b[0;34m[\u001b[0m\u001b[0;34m\"China\"\u001b[0m \u001b[0;34m,\u001b[0m \u001b[0;34m\"Irán\"\u001b[0m\u001b[0;34m,\u001b[0m\u001b[0;34m:\u001b[0m\u001b[0;34m]\u001b[0m\u001b[0;34m)\u001b[0m \u001b[0;31m#todas las columnas de China e Irán\u001b[0m\u001b[0;34m\u001b[0m\u001b[0;34m\u001b[0m\u001b[0m\n\u001b[0m\u001b[1;32m      9\u001b[0m \u001b[0;34m\u001b[0m\u001b[0m\n\u001b[1;32m     10\u001b[0m \u001b[0;34m\u001b[0m\u001b[0m\n",
      "\u001b[0;32m/opt/anaconda3/lib/python3.9/site-packages/pandas/core/indexing.py\u001b[0m in \u001b[0;36m__getitem__\u001b[0;34m(self, key)\u001b[0m\n\u001b[1;32m    923\u001b[0m                 \u001b[0;32mwith\u001b[0m \u001b[0msuppress\u001b[0m\u001b[0;34m(\u001b[0m\u001b[0mKeyError\u001b[0m\u001b[0;34m,\u001b[0m \u001b[0mIndexError\u001b[0m\u001b[0;34m)\u001b[0m\u001b[0;34m:\u001b[0m\u001b[0;34m\u001b[0m\u001b[0;34m\u001b[0m\u001b[0m\n\u001b[1;32m    924\u001b[0m                     \u001b[0;32mreturn\u001b[0m \u001b[0mself\u001b[0m\u001b[0;34m.\u001b[0m\u001b[0mobj\u001b[0m\u001b[0;34m.\u001b[0m\u001b[0m_get_value\u001b[0m\u001b[0;34m(\u001b[0m\u001b[0;34m*\u001b[0m\u001b[0mkey\u001b[0m\u001b[0;34m,\u001b[0m \u001b[0mtakeable\u001b[0m\u001b[0;34m=\u001b[0m\u001b[0mself\u001b[0m\u001b[0;34m.\u001b[0m\u001b[0m_takeable\u001b[0m\u001b[0;34m)\u001b[0m\u001b[0;34m\u001b[0m\u001b[0;34m\u001b[0m\u001b[0m\n\u001b[0;32m--> 925\u001b[0;31m             \u001b[0;32mreturn\u001b[0m \u001b[0mself\u001b[0m\u001b[0;34m.\u001b[0m\u001b[0m_getitem_tuple\u001b[0m\u001b[0;34m(\u001b[0m\u001b[0mkey\u001b[0m\u001b[0;34m)\u001b[0m\u001b[0;34m\u001b[0m\u001b[0;34m\u001b[0m\u001b[0m\n\u001b[0m\u001b[1;32m    926\u001b[0m         \u001b[0;32melse\u001b[0m\u001b[0;34m:\u001b[0m\u001b[0;34m\u001b[0m\u001b[0;34m\u001b[0m\u001b[0m\n\u001b[1;32m    927\u001b[0m             \u001b[0;31m# we by definition only have the 0th axis\u001b[0m\u001b[0;34m\u001b[0m\u001b[0;34m\u001b[0m\u001b[0m\n",
      "\u001b[0;32m/opt/anaconda3/lib/python3.9/site-packages/pandas/core/indexing.py\u001b[0m in \u001b[0;36m_getitem_tuple\u001b[0;34m(self, tup)\u001b[0m\n\u001b[1;32m   1101\u001b[0m \u001b[0;34m\u001b[0m\u001b[0m\n\u001b[1;32m   1102\u001b[0m         \u001b[0;31m# no multi-index, so validate all of the indexers\u001b[0m\u001b[0;34m\u001b[0m\u001b[0;34m\u001b[0m\u001b[0m\n\u001b[0;32m-> 1103\u001b[0;31m         \u001b[0mself\u001b[0m\u001b[0;34m.\u001b[0m\u001b[0m_has_valid_tuple\u001b[0m\u001b[0;34m(\u001b[0m\u001b[0mtup\u001b[0m\u001b[0;34m)\u001b[0m\u001b[0;34m\u001b[0m\u001b[0;34m\u001b[0m\u001b[0m\n\u001b[0m\u001b[1;32m   1104\u001b[0m \u001b[0;34m\u001b[0m\u001b[0m\n\u001b[1;32m   1105\u001b[0m         \u001b[0;31m# ugly hack for GH #836\u001b[0m\u001b[0;34m\u001b[0m\u001b[0;34m\u001b[0m\u001b[0m\n",
      "\u001b[0;32m/opt/anaconda3/lib/python3.9/site-packages/pandas/core/indexing.py\u001b[0m in \u001b[0;36m_has_valid_tuple\u001b[0;34m(self, key)\u001b[0m\n\u001b[1;32m    749\u001b[0m         \u001b[0mCheck\u001b[0m \u001b[0mthe\u001b[0m \u001b[0mkey\u001b[0m \u001b[0;32mfor\u001b[0m \u001b[0mvalid\u001b[0m \u001b[0mkeys\u001b[0m \u001b[0macross\u001b[0m \u001b[0mmy\u001b[0m \u001b[0mindexer\u001b[0m\u001b[0;34m.\u001b[0m\u001b[0;34m\u001b[0m\u001b[0;34m\u001b[0m\u001b[0m\n\u001b[1;32m    750\u001b[0m         \"\"\"\n\u001b[0;32m--> 751\u001b[0;31m         \u001b[0mself\u001b[0m\u001b[0;34m.\u001b[0m\u001b[0m_validate_key_length\u001b[0m\u001b[0;34m(\u001b[0m\u001b[0mkey\u001b[0m\u001b[0;34m)\u001b[0m\u001b[0;34m\u001b[0m\u001b[0;34m\u001b[0m\u001b[0m\n\u001b[0m\u001b[1;32m    752\u001b[0m         \u001b[0;32mfor\u001b[0m \u001b[0mi\u001b[0m\u001b[0;34m,\u001b[0m \u001b[0mk\u001b[0m \u001b[0;32min\u001b[0m \u001b[0menumerate\u001b[0m\u001b[0;34m(\u001b[0m\u001b[0mkey\u001b[0m\u001b[0;34m)\u001b[0m\u001b[0;34m:\u001b[0m\u001b[0;34m\u001b[0m\u001b[0;34m\u001b[0m\u001b[0m\n\u001b[1;32m    753\u001b[0m             \u001b[0;32mtry\u001b[0m\u001b[0;34m:\u001b[0m\u001b[0;34m\u001b[0m\u001b[0;34m\u001b[0m\u001b[0m\n",
      "\u001b[0;32m/opt/anaconda3/lib/python3.9/site-packages/pandas/core/indexing.py\u001b[0m in \u001b[0;36m_validate_key_length\u001b[0;34m(self, key)\u001b[0m\n\u001b[1;32m    790\u001b[0m     \u001b[0;32mdef\u001b[0m \u001b[0m_validate_key_length\u001b[0m\u001b[0;34m(\u001b[0m\u001b[0mself\u001b[0m\u001b[0;34m,\u001b[0m \u001b[0mkey\u001b[0m\u001b[0;34m:\u001b[0m \u001b[0mSequence\u001b[0m\u001b[0;34m[\u001b[0m\u001b[0mAny\u001b[0m\u001b[0;34m]\u001b[0m\u001b[0;34m)\u001b[0m \u001b[0;34m->\u001b[0m \u001b[0;32mNone\u001b[0m\u001b[0;34m:\u001b[0m\u001b[0;34m\u001b[0m\u001b[0;34m\u001b[0m\u001b[0m\n\u001b[1;32m    791\u001b[0m         \u001b[0;32mif\u001b[0m \u001b[0mlen\u001b[0m\u001b[0;34m(\u001b[0m\u001b[0mkey\u001b[0m\u001b[0;34m)\u001b[0m \u001b[0;34m>\u001b[0m \u001b[0mself\u001b[0m\u001b[0;34m.\u001b[0m\u001b[0mndim\u001b[0m\u001b[0;34m:\u001b[0m\u001b[0;34m\u001b[0m\u001b[0;34m\u001b[0m\u001b[0m\n\u001b[0;32m--> 792\u001b[0;31m             \u001b[0;32mraise\u001b[0m \u001b[0mIndexingError\u001b[0m\u001b[0;34m(\u001b[0m\u001b[0;34m\"Too many indexers\"\u001b[0m\u001b[0;34m)\u001b[0m\u001b[0;34m\u001b[0m\u001b[0;34m\u001b[0m\u001b[0m\n\u001b[0m\u001b[1;32m    793\u001b[0m \u001b[0;34m\u001b[0m\u001b[0m\n\u001b[1;32m    794\u001b[0m     \u001b[0;32mdef\u001b[0m \u001b[0m_getitem_tuple_same_dim\u001b[0m\u001b[0;34m(\u001b[0m\u001b[0mself\u001b[0m\u001b[0;34m,\u001b[0m \u001b[0mtup\u001b[0m\u001b[0;34m:\u001b[0m \u001b[0mtuple\u001b[0m\u001b[0;34m)\u001b[0m\u001b[0;34m:\u001b[0m\u001b[0;34m\u001b[0m\u001b[0;34m\u001b[0m\u001b[0m\n",
      "\u001b[0;31mIndexingError\u001b[0m: Too many indexers"
     ]
    }
   ],
   "source": [
    "ruta = \"/Users/lidiacarriedoponce/Desktop/Modulo 2 -Numpy_Pandas_/18 Abril - Pandas I/medallas.csv\"\n",
    "df = pd.read_csv(ruta)\n",
    "\n",
    "print(df.loc[:]) # me lo enseña todo\n",
    "\n",
    "print(df.loc[0,:]) # me da la info de fila 0 y todas sus columnas\n",
    "\n",
    "print(df.loc[\"China\" , \"Irán\",:]) #todas las columnas de China e Irán\n",
    "\n",
    "\n"
   ]
  },
  {
   "cell_type": "markdown",
   "metadata": {},
   "source": [
    "Utilizando el código del ejercicio anterior, seleccionad unicamente las columnas \"Oro\", \"Plata\" y \"Bronce\".\n",
    "\n",
    "Contestad a las siguientes preguntas:\n",
    "- ¿Qué país consiguió más de 200 medallas de oro?\n",
    "- ¿Qué país consiguió más de 200 medallas de oro y más de 1000 de plata?\n",
    "- ¿Qué país consiguió más de 200 medallas de oro o más de 700 de bronce?\n",
    "- Como vemos hay una columna que se llama Unnamed: 0 que no nos interesa. Eliminad esa columna.\n",
    "- Cread una nueva columma que se llame \"total\" que sea el resultado de la suma de todas las medallas obtenidas por cada país."
   ]
  },
  {
   "cell_type": "code",
   "execution_count": null,
   "metadata": {},
   "outputs": [],
   "source": []
  }
 ],
 "metadata": {
  "interpreter": {
   "hash": "40d3a090f54c6569ab1632332b64b2c03c39dcf918b08424e98f38b5ae0af88f"
  },
  "kernelspec": {
   "display_name": "Python 3.9.7 ('base')",
   "language": "python",
   "name": "python3"
  },
  "language_info": {
   "codemirror_mode": {
    "name": "ipython",
    "version": 3
   },
   "file_extension": ".py",
   "mimetype": "text/x-python",
   "name": "python",
   "nbconvert_exporter": "python",
   "pygments_lexer": "ipython3",
   "version": "3.9.7"
  },
  "orig_nbformat": 4
 },
 "nbformat": 4,
 "nbformat_minor": 2
}
