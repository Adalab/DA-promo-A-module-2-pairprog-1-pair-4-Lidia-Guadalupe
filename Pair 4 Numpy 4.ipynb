{
 "cells": [
  {
   "cell_type": "code",
   "execution_count": 1,
   "metadata": {},
   "outputs": [],
   "source": [
    "import numpy as np"
   ]
  },
  {
   "cell_type": "markdown",
   "metadata": {},
   "source": [
    "1. **¿Cómo podemos crear dos arrays de dos dimensiones usando el método random_sample que tengan los mismos valores?**"
   ]
  },
  {
   "cell_type": "code",
   "execution_count": 6,
   "metadata": {},
   "outputs": [
    {
     "data": {
      "text/plain": [
       "array([[0.67046751, 0.4173048 , 0.55868983, 0.14038694, 0.19810149],\n",
       "       [0.80074457, 0.96826158, 0.31342418, 0.69232262, 0.87638915],\n",
       "       [0.89460666, 0.08504421, 0.03905478, 0.16983042, 0.8781425 ]])"
      ]
     },
     "execution_count": 6,
     "metadata": {},
     "output_type": "execute_result"
    }
   ],
   "source": [
    "\n",
    "array = np.random.sample((3,5))\n",
    "array\n"
   ]
  },
  {
   "cell_type": "code",
   "execution_count": 8,
   "metadata": {},
   "outputs": [
    {
     "data": {
      "text/plain": [
       "array([[0.67046751, 0.4173048 , 0.55868983, 0.14038694, 0.19810149],\n",
       "       [0.80074457, 0.96826158, 0.31342418, 0.69232262, 0.87638915],\n",
       "       [0.89460666, 0.08504421, 0.03905478, 0.16983042, 0.8781425 ]])"
      ]
     },
     "execution_count": 8,
     "metadata": {},
     "output_type": "execute_result"
    }
   ],
   "source": [
    "# np.random.seed(1)\n",
    "array1 = np.random.sample((3,5))\n",
    "array1\n",
    "#Al plantar una semilla, podemos hacer que nuestros arrays tengan los mismos valores"
   ]
  },
  {
   "cell_type": "markdown",
   "metadata": {},
   "source": [
    "2. **Cread los siguientes arrays:**\n",
    "\n",
    "Un array de tres dimensiones con distribución uniforme de 2 x 3 x 5, con números entre 0 y 10, que no tengan decimales y extrae sus valores únicos almacenándolos en una variable.\n",
    "\n",
    "Un array de tres dimensiones con distribución binomial de 2 x 3 x 5, con probabilidad de 0.3 y número de pruebas igual a 10. Igual que antes guarda los datos en una variable."
   ]
  },
  {
   "cell_type": "code",
   "execution_count": 19,
   "metadata": {},
   "outputs": [
    {
     "data": {
      "text/plain": [
       "array([ 0.,  1.,  2.,  3.,  4.,  5.,  6.,  8.,  9., 10.])"
      ]
     },
     "execution_count": 19,
     "metadata": {},
     "output_type": "execute_result"
    }
   ],
   "source": [
    "array2 = np.random.uniform(0,10, size = (3, 2, 5))\n",
    "array2 = np.round(array2)\n",
    "valoresarray2 = np.unique(array2)\n",
    "\n",
    "\n",
    "valoresarray2"
   ]
  },
  {
   "cell_type": "code",
   "execution_count": 23,
   "metadata": {},
   "outputs": [
    {
     "data": {
      "text/plain": [
       "array([[[5, 3, 4, 3, 4],\n",
       "        [3, 4, 3, 3, 2],\n",
       "        [1, 2, 1, 6, 2]],\n",
       "\n",
       "       [[4, 5, 4, 3, 2],\n",
       "        [3, 2, 2, 3, 2],\n",
       "        [5, 5, 2, 1, 2]]])"
      ]
     },
     "execution_count": 23,
     "metadata": {},
     "output_type": "execute_result"
    }
   ],
   "source": [
    "array3 = np.random.binomial(10, 0.3, size = (2, 3,5))\n",
    "array3"
   ]
  },
  {
   "cell_type": "markdown",
   "metadata": {},
   "source": [
    "3. **En esta lección hemos aprendido algunos métodos de teórias de conjuntos. Usando los arrays de elementos únicos obtenidos en el ejercicio anterior realizad las siguientes operaciones:**\n",
    "\n",
    "Elementos comunes entre los dos arrays\n",
    "\n",
    "Unión de los dos arrays\n",
    "\n",
    "¿Qué elementos están en el array derivado de la distribución uniforme y no en los únicos de la distribución binomial? Extrae los valores númericos *⚠️ Explicar cada uno de los outputs que os salgan. Que significa cada una de estas operaciones que hemos ido extrayendo?*\n"
   ]
  },
  {
   "cell_type": "code",
   "execution_count": null,
   "metadata": {},
   "outputs": [],
   "source": []
  },
  {
   "cell_type": "markdown",
   "metadata": {},
   "source": [
    "4. **Cread dos arrays usando el método random.rand de Numpy con 80 elementos cada uno con números del 1-100, con los siguientes nombres array1 y array2.**\n",
    "\n",
    "Extraed los valores únicos de cada uno de los arrays y los guardáis en variables en las que se les llame array1 y array2.\n",
    "\n",
    "Identificad los elementos presentes en el array1 pero no en el array2 y asiganarlo a una variable que se llame array3.\n",
    "\n",
    "Identificad los elementos presentes en el array2 pero no en el array1 y asiganarlo a una variable que se llame array4.\n",
    "\n",
    "Identificad los elementos presentes en ambos arrays y asiganarlos a una variable que se llame array5.\n",
    "\n",
    "¿Cuál es la relación que existe entre todos estos arrays? 💡 Pista 💡 Tendréis que usar las longitudes de cada uno de los arrays creados.\n"
   ]
  }
 ],
 "metadata": {
  "interpreter": {
   "hash": "a7767d930544d914483bb7fc45a359b90234f0fc056fbb3956e60e9a90a88fdd"
  },
  "kernelspec": {
   "display_name": "Python 3.9.7 ('base')",
   "language": "python",
   "name": "python3"
  },
  "language_info": {
   "codemirror_mode": {
    "name": "ipython",
    "version": 3
   },
   "file_extension": ".py",
   "mimetype": "text/x-python",
   "name": "python",
   "nbconvert_exporter": "python",
   "pygments_lexer": "ipython3",
   "version": "3.9.7"
  },
  "orig_nbformat": 4
 },
 "nbformat": 4,
 "nbformat_minor": 2
}
