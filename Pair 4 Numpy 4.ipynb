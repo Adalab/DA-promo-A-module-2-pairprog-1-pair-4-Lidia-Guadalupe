{
 "cells": [
  {
   "cell_type": "code",
   "execution_count": 1,
   "metadata": {},
   "outputs": [],
   "source": [
    "import numpy as np"
   ]
  },
  {
   "cell_type": "markdown",
   "metadata": {},
   "source": [
    "1. **¿Cómo podemos crear dos arrays de dos dimensiones usando el método random_sample que tengan los mismos valores?**"
   ]
  },
  {
   "cell_type": "code",
   "execution_count": 19,
   "metadata": {},
   "outputs": [
    {
     "data": {
      "text/plain": [
       "array([[4.17022005e-01, 7.20324493e-01, 1.14374817e-04, 3.02332573e-01,\n",
       "        1.46755891e-01],\n",
       "       [9.23385948e-02, 1.86260211e-01, 3.45560727e-01, 3.96767474e-01,\n",
       "        5.38816734e-01],\n",
       "       [4.19194514e-01, 6.85219500e-01, 2.04452250e-01, 8.78117436e-01,\n",
       "        2.73875932e-02]])"
      ]
     },
     "execution_count": 19,
     "metadata": {},
     "output_type": "execute_result"
    }
   ],
   "source": [
    "np.random.seed(1)\n",
    "array = np.random.sample((3,5))\n",
    "array\n"
   ]
  },
  {
   "cell_type": "code",
   "execution_count": 20,
   "metadata": {},
   "outputs": [
    {
     "data": {
      "text/plain": [
       "array([[4.17022005e-01, 7.20324493e-01, 1.14374817e-04, 3.02332573e-01,\n",
       "        1.46755891e-01],\n",
       "       [9.23385948e-02, 1.86260211e-01, 3.45560727e-01, 3.96767474e-01,\n",
       "        5.38816734e-01],\n",
       "       [4.19194514e-01, 6.85219500e-01, 2.04452250e-01, 8.78117436e-01,\n",
       "        2.73875932e-02]])"
      ]
     },
     "execution_count": 20,
     "metadata": {},
     "output_type": "execute_result"
    }
   ],
   "source": [
    "np.random.seed(1)\n",
    "array1 = np.random.sample((3,5))\n",
    "array1\n",
    "#Al plantar una semilla, podemos hacer que nuestros arrays tengan los mismos valores"
   ]
  },
  {
   "cell_type": "markdown",
   "metadata": {},
   "source": [
    "2. **Cread los siguientes arrays:**\n",
    "\n",
    "Un array de tres dimensiones con distribución uniforme de 2 x 3 x 5, con números entre 0 y 10, que no tengan decimales y extrae sus valores únicos almacenándolos en una variable.\n",
    "\n",
    "Un array de tres dimensiones con distribución binomial de 2 x 3 x 5, con probabilidad de 0.3 y número de pruebas igual a 10. Igual que antes guarda los datos en una variable."
   ]
  },
  {
   "cell_type": "code",
   "execution_count": 19,
   "metadata": {},
   "outputs": [
    {
     "data": {
      "text/plain": [
       "array([ 0.,  1.,  2.,  3.,  4.,  5.,  6.,  8.,  9., 10.])"
      ]
     },
     "execution_count": 19,
     "metadata": {},
     "output_type": "execute_result"
    }
   ],
   "source": [
    "array2 = np.random.uniform(0,10, size = (3, 2, 5))\n",
    "array2 = np.round(array2)\n",
    "valoresarray2 = np.unique(array2)\n",
    "\n",
    "\n",
    "valoresarray2"
   ]
  },
  {
   "cell_type": "code",
   "execution_count": 23,
   "metadata": {},
   "outputs": [
    {
     "data": {
      "text/plain": [
       "array([[[2, 1, 4, 3, 1],\n",
       "        [3, 4, 2, 3, 2],\n",
       "        [1, 3, 1, 5, 1]],\n",
       "\n",
       "       [[3, 1, 5, 5, 2],\n",
       "        [3, 3, 3, 6, 2],\n",
       "        [2, 3, 5, 3, 3]]])"
      ]
     },
     "execution_count": 23,
     "metadata": {},
     "output_type": "execute_result"
    }
   ],
   "source": [
    "array3 = np.random.binomial(10, 0.3, size = (2, 3,5))\n",
    "array3"
   ]
  },
  {
   "cell_type": "markdown",
   "metadata": {},
   "source": [
    "3. **En esta lección hemos aprendido algunos métodos de teórias de conjuntos. Usando los arrays de elementos únicos obtenidos en el ejercicio anterior realizad las siguientes operaciones:**\n",
    "\n",
    "Elementos comunes entre los dos arrays\n",
    "\n",
    "Unión de los dos arrays\n",
    "\n",
    "¿Qué elementos están en el array derivado de la distribución uniforme y no en los únicos de la distribución binomial? Extrae los valores númericos *⚠️ Explicar cada uno de los outputs que os salgan. Que significa cada una de estas operaciones que hemos ido extrayendo?*\n"
   ]
  },
  {
   "cell_type": "code",
   "execution_count": 24,
   "metadata": {},
   "outputs": [
    {
     "data": {
      "text/plain": [
       "array([1, 2, 3, 4, 5, 6])"
      ]
     },
     "execution_count": 24,
     "metadata": {},
     "output_type": "execute_result"
    }
   ],
   "source": [
    "interseccion = np.intersect1d(array2, array3)\n",
    "interseccion\n",
    "#Estos son los valores únicos comunes en las 2 arrays"
   ]
  },
  {
   "cell_type": "code",
   "execution_count": 25,
   "metadata": {},
   "outputs": [
    {
     "data": {
      "text/plain": [
       "array([0, 1, 2, 3, 4, 5, 6, 7, 8, 9])"
      ]
     },
     "execution_count": 25,
     "metadata": {},
     "output_type": "execute_result"
    }
   ],
   "source": [
    "union = np.union1d(array2, array3)\n",
    "union\n",
    "#Une los valores de las arrays, sin que haya ningún duplicado"
   ]
  },
  {
   "cell_type": "code",
   "execution_count": 26,
   "metadata": {},
   "outputs": [
    {
     "data": {
      "text/plain": [
       "array([0, 7, 8, 9])"
      ]
     },
     "execution_count": 26,
     "metadata": {},
     "output_type": "execute_result"
    }
   ],
   "source": [
    "diferencia = np.setdiff1d(array2, array3)\n",
    "diferencia\n",
    "#Son los valores únicos que se encuentran en array2 y no están en array3"
   ]
  },
  {
   "cell_type": "markdown",
   "metadata": {},
   "source": [
    "4. **Cread dos arrays usando el método random.rand de Numpy con 80 elementos cada uno con números del 1-100, con los siguientes nombres array1 y array2.**\n",
    "\n",
    "Extraed los valores únicos de cada uno de los arrays y los guardáis en variables en las que se les llame array1 y array2.\n",
    "\n",
    "Identificad los elementos presentes en el array1 pero no en el array2 y asiganarlo a una variable que se llame array3.\n",
    "\n",
    "Identificad los elementos presentes en el array2 pero no en el array1 y asiganarlo a una variable que se llame array4.\n",
    "\n",
    "Identificad los elementos presentes en ambos arrays y asiganarlos a una variable que se llame array5.\n",
    "\n",
    "¿Cuál es la relación que existe entre todos estos arrays? 💡 Pista 💡 Tendréis que usar las longitudes de cada uno de los arrays creados.\n"
   ]
  },
  {
   "cell_type": "code",
   "execution_count": 28,
   "metadata": {},
   "outputs": [
    {
     "data": {
      "text/plain": [
       "array([ 7, 78, 57, 60, 16, 25, 10, 67, 72, 54, 70, 37, 22, 41, 78, 92, 50,\n",
       "       48, 78, 41, 79, 46, 88, 17, 29, 46, 68, 67, 79, 47,  1, 30, 64, 76,\n",
       "       36, 54, 94, 34,  3, 85, 84, 49, 55, 33, 29, 56, 83, 32, 29, 95, 75,\n",
       "        9, 33,  9, 85, 78, 51, 80, 42, 65, 84, 25, 21, 45, 16, 31, 92, 15,\n",
       "       20, 27, 87,  8, 54, 48, 61, 35, 33, 20, 68, 25])"
      ]
     },
     "execution_count": 28,
     "metadata": {},
     "output_type": "execute_result"
    }
   ],
   "source": [
    "arrayuno = np.random.randint(1,100, (80))\n",
    "arrayuno\n",
    "#Guada los conto uno por uno para verificar"
   ]
  },
  {
   "cell_type": "code",
   "execution_count": 29,
   "metadata": {},
   "outputs": [
    {
     "data": {
      "text/plain": [
       "array([84, 95, 39, 48,  6, 80, 64, 88, 33, 43, 75, 67, 89, 99, 31, 18, 69,\n",
       "       65, 61, 79, 18, 40, 36, 82, 29, 23, 39, 42, 75, 78, 71, 26, 49, 51,\n",
       "       63, 45, 55,  1, 87, 17, 20, 10, 93, 52, 11, 69, 24, 15, 64, 22, 47,\n",
       "        4, 57, 89, 81, 47, 55, 80, 72, 15, 78, 16, 26, 54, 85, 59, 86, 30,\n",
       "       45, 38, 23, 92, 55, 77, 13, 60, 27, 77, 72, 88])"
      ]
     },
     "execution_count": 29,
     "metadata": {},
     "output_type": "execute_result"
    }
   ],
   "source": [
    "arraydos = np.random.randint(1,100, (80))\n",
    "arraydos"
   ]
  },
  {
   "cell_type": "markdown",
   "metadata": {},
   "source": [
    "Extraed los valores únicos de cada uno de los arrays y los guardáis en variables en las que se les llame array1 y array2.\n",
    "\n"
   ]
  },
  {
   "cell_type": "code",
   "execution_count": 33,
   "metadata": {},
   "outputs": [
    {
     "name": "stdout",
     "output_type": "stream",
     "text": [
      "57\n"
     ]
    }
   ],
   "source": [
    "arrayuno = np.unique(arrayuno)\n",
    "arrayuno\n"
   ]
  },
  {
   "cell_type": "code",
   "execution_count": 34,
   "metadata": {},
   "outputs": [
    {
     "name": "stdout",
     "output_type": "stream",
     "text": [
      "62\n"
     ]
    }
   ],
   "source": [
    "arraydos = np.unique(arraydos)\n",
    "arraydos\n"
   ]
  },
  {
   "cell_type": "markdown",
   "metadata": {},
   "source": [
    "\n",
    "Identificad los elementos presentes en el array1 pero no en el array2 y asiganarlo a una variable que se llame array3.\n",
    "\n"
   ]
  },
  {
   "cell_type": "code",
   "execution_count": 35,
   "metadata": {},
   "outputs": [
    {
     "data": {
      "text/plain": [
       "array([ 3,  7,  8,  9, 21, 25, 32, 34, 35, 37, 41, 46, 50, 56, 68, 70, 76,\n",
       "       83, 94])"
      ]
     },
     "execution_count": 35,
     "metadata": {},
     "output_type": "execute_result"
    }
   ],
   "source": [
    "arraytres = np.setdiff1d(arrayuno, arraydos)\n",
    "arraytres\n",
    "\n"
   ]
  },
  {
   "cell_type": "markdown",
   "metadata": {},
   "source": [
    "\n",
    "Identificad los elementos presentes en el array2 pero no en el array1 y asiganarlo a una variable que se llame array4.\n"
   ]
  },
  {
   "cell_type": "code",
   "execution_count": 36,
   "metadata": {},
   "outputs": [
    {
     "data": {
      "text/plain": [
       "array([ 4,  6, 11, 13, 18, 23, 24, 26, 38, 39, 40, 43, 52, 59, 63, 69, 71,\n",
       "       77, 81, 82, 86, 89, 93, 99])"
      ]
     },
     "execution_count": 36,
     "metadata": {},
     "output_type": "execute_result"
    }
   ],
   "source": [
    "arraycuatro = np.setdiff1d(arraydos, arrayuno)\n",
    "arraycuatro\n",
    "\n"
   ]
  },
  {
   "cell_type": "markdown",
   "metadata": {},
   "source": [
    "\n",
    "Identificad los elementos presentes en ambos arrays y asiganarlos a una variable que se llame array5.\n"
   ]
  },
  {
   "cell_type": "code",
   "execution_count": 37,
   "metadata": {},
   "outputs": [
    {
     "data": {
      "text/plain": [
       "array([ 1, 10, 15, 16, 17, 20, 22, 27, 29, 30, 31, 33, 36, 42, 45, 47, 48,\n",
       "       49, 51, 54, 55, 57, 60, 61, 64, 65, 67, 72, 75, 78, 79, 80, 84, 85,\n",
       "       87, 88, 92, 95])"
      ]
     },
     "execution_count": 37,
     "metadata": {},
     "output_type": "execute_result"
    }
   ],
   "source": [
    "arraycinco = np.intersect1d(arrayuno, arraydos)\n",
    "arraycinco\n"
   ]
  },
  {
   "cell_type": "markdown",
   "metadata": {},
   "source": [
    "\n",
    "¿Cuál es la relación que existe entre todos estos arrays? 💡 Pista 💡 Tendréis que usar las longitudes de cada uno de los arrays creados."
   ]
  },
  {
   "cell_type": "code",
   "execution_count": 38,
   "metadata": {},
   "outputs": [
    {
     "name": "stdout",
     "output_type": "stream",
     "text": [
      "57\n",
      "62\n",
      "19\n",
      "24\n",
      "38\n"
     ]
    }
   ],
   "source": [
    "print(len(arrayuno))\n",
    "print(len(arraydos))\n",
    "print(len(arraytres))\n",
    "print(len(arraycuatro))\n",
    "print(len(arraycinco))\n",
    "#Que tienen 2 digitos\n",
    "#Que son menores de 80\n",
    "#La probabilidad de que salga 100 es muy baja\n",
    "#"
   ]
  }
 ],
 "metadata": {
  "interpreter": {
   "hash": "a7767d930544d914483bb7fc45a359b90234f0fc056fbb3956e60e9a90a88fdd"
  },
  "kernelspec": {
   "display_name": "Python 3.9.7 ('base')",
   "language": "python",
   "name": "python3"
  },
  "language_info": {
   "codemirror_mode": {
    "name": "ipython",
    "version": 3
   },
   "file_extension": ".py",
   "mimetype": "text/x-python",
   "name": "python",
   "nbconvert_exporter": "python",
   "pygments_lexer": "ipython3",
   "version": "3.9.7"
  },
  "orig_nbformat": 4
 },
 "nbformat": 4,
 "nbformat_minor": 2
}
